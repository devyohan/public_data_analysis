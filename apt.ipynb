{
  "nbformat": 4,
  "nbformat_minor": 0,
  "metadata": {
    "colab": {
      "name": "apt.ipynb",
      "provenance": [],
      "authorship_tag": "ABX9TyMPTSCWbohyathLOzz+D8pS",
      "include_colab_link": true
    },
    "kernelspec": {
      "name": "python3",
      "display_name": "Python 3"
    },
    "language_info": {
      "name": "python"
    }
  },
  "cells": [
    {
      "cell_type": "markdown",
      "metadata": {
        "id": "view-in-github",
        "colab_type": "text"
      },
      "source": [
        "<a href=\"https://colab.research.google.com/github/devyohan/public_data_analysis/blob/main/apt.ipynb\" target=\"_parent\"><img src=\"https://colab.research.google.com/assets/colab-badge.svg\" alt=\"Open In Colab\"/></a>"
      ]
    },
    {
      "cell_type": "markdown",
      "metadata": {
        "id": "LqZI-ItmGgRC"
      },
      "source": [
        "# 전국 신규 민간 아파트 분양가 분석"
      ]
    },
    {
      "cell_type": "code",
      "metadata": {
        "id": "FnjhWoWwGRWl"
      },
      "source": [
        ""
      ],
      "execution_count": null,
      "outputs": []
    }
  ]
}